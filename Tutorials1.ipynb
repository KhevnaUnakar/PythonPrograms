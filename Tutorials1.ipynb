{
 "cells": [
  {
   "cell_type": "markdown",
   "id": "ed8d0a90",
   "metadata": {},
   "source": [
    "## Assignment 1"
   ]
  },
  {
   "cell_type": "markdown",
   "id": "6138c6c0",
   "metadata": {},
   "source": [
    "### Demonstrate about Fundamental Data types in Python Programming"
   ]
  },
  {
   "cell_type": "code",
   "execution_count": 120,
   "id": "78828f5d",
   "metadata": {},
   "outputs": [
    {
     "name": "stdout",
     "output_type": "stream",
     "text": [
      "10 is <class 'int'>\n",
      "Twenty is <class 'str'>\n",
      "2.5 is <class 'float'>\n",
      "True is <class 'bool'>\n"
     ]
    }
   ],
   "source": [
    "a = 10\n",
    "b = \"Twenty\"\n",
    "c = 2.5\n",
    "d = True\n",
    "\n",
    "print(a, \"is\", type(a))\n",
    "print(b, \"is\", type(b))\n",
    "print(c, \"is\", type(c))\n",
    "print(d, \"is\", type(d))"
   ]
  },
  {
   "cell_type": "markdown",
   "id": "476d7d28",
   "metadata": {},
   "source": [
    "### Write a program to perform different arithmetic operations on numbers in python."
   ]
  },
  {
   "cell_type": "code",
   "execution_count": 121,
   "id": "d042b9e7",
   "metadata": {},
   "outputs": [
    {
     "name": "stdout",
     "output_type": "stream",
     "text": [
      "Sum:  18\n",
      "Difference:  2\n",
      "Multiplication:  80\n",
      "Division:  1.25\n",
      "Remainder:  2\n"
     ]
    }
   ],
   "source": [
    "a = 10\n",
    "b = 8\n",
    "\n",
    "add = a+b\n",
    "diff = a-b\n",
    "multi = a*b\n",
    "divi = a/b\n",
    "rem = a%b\n",
    "\n",
    "print(\"Sum: \", add)\n",
    "print(\"Difference: \", diff)\n",
    "print(\"Multiplication: \", multi)\n",
    "print(\"Division: \", divi)\n",
    "print(\"Remainder: \", rem)"
   ]
  },
  {
   "cell_type": "markdown",
   "id": "e346f9f9",
   "metadata": {},
   "source": [
    "### Write a program to create, concatenate and print a string and accessing sub-string from given string."
   ]
  },
  {
   "cell_type": "code",
   "execution_count": 122,
   "id": "acda60c6",
   "metadata": {},
   "outputs": [
    {
     "name": "stdout",
     "output_type": "stream",
     "text": [
      "Welcome to MIT-WPU\n",
      "Welcome to MIT-WPU, batch of FYMCA\n",
      " to MIT-W\n"
     ]
    }
   ],
   "source": [
    "random = \"Welcome to MIT-WPU\"\n",
    "print(random)\n",
    "\n",
    "welcome = random + \", batch of FYMCA\"\n",
    "print(welcome)\n",
    "\n",
    "subWelcome = welcome[7:16]\n",
    "print(subWelcome)"
   ]
  },
  {
   "cell_type": "markdown",
   "id": "93b9ff98",
   "metadata": {},
   "source": [
    "### Remove duplicates from a StringWrite a Python program to Remove all duplicates from a given string in Python."
   ]
  },
  {
   "cell_type": "code",
   "execution_count": 123,
   "id": "ee4cd512",
   "metadata": {},
   "outputs": [
    {
     "name": "stdout",
     "output_type": "stream",
     "text": [
      "Welcome to MIT-WPU, batch of FYMCA\n",
      "Welcom tMIT-PU,bahfFYCA\n"
     ]
    }
   ],
   "source": [
    "original = \"Welcome to MIT-WPU, batch of FYMCA\"\n",
    "print(original)\n",
    "\n",
    "seen = set()\n",
    "dupes = \"\"\n",
    "\n",
    "for char in original:\n",
    "    if char not in seen:\n",
    "        seen.add(char)\n",
    "        dupes += char\n",
    "print(dupes)"
   ]
  },
  {
   "cell_type": "markdown",
   "id": "1a9d536a",
   "metadata": {},
   "source": [
    "### Using a for loop, write a program that prints the decimal equivalents of 1/2, 1/3, 1/4, ....... 1/10"
   ]
  },
  {
   "cell_type": "code",
   "execution_count": 124,
   "id": "c30a6c8f",
   "metadata": {},
   "outputs": [
    {
     "name": "stdout",
     "output_type": "stream",
     "text": [
      "1 / 1 : 1.0 \n",
      "\n",
      "1 / 2 : 0.5 \n",
      "\n",
      "1 / 3 : 0.3333333333333333 \n",
      "\n",
      "1 / 4 : 0.25 \n",
      "\n",
      "1 / 5 : 0.2 \n",
      "\n",
      "1 / 6 : 0.16666666666666666 \n",
      "\n",
      "1 / 7 : 0.14285714285714285 \n",
      "\n",
      "1 / 8 : 0.125 \n",
      "\n",
      "1 / 9 : 0.1111111111111111 \n",
      "\n",
      "1 / 10 : 0.1 \n",
      "\n"
     ]
    }
   ],
   "source": [
    "point = 0.0\n",
    "\n",
    "for i in range(1,11):\n",
    "    point = 1/i\n",
    "    print(\"1 /\",i,\":\",point,\"\\n\")"
   ]
  },
  {
   "cell_type": "markdown",
   "id": "b5c8e716",
   "metadata": {},
   "source": [
    "### Write a program using a while loop that asks the user for a number and prints a countdown from that number to zero."
   ]
  },
  {
   "cell_type": "code",
   "execution_count": 125,
   "id": "d3868255",
   "metadata": {},
   "outputs": [
    {
     "name": "stdout",
     "output_type": "stream",
     "text": [
      "5\n",
      "4\n",
      "3\n",
      "2\n",
      "1\n"
     ]
    }
   ],
   "source": [
    "n = int(input(\"Enter a number:\"))\n",
    "\n",
    "while n>0:\n",
    "    print(n)\n",
    "    n=n-1"
   ]
  },
  {
   "cell_type": "markdown",
   "id": "70a81d0e",
   "metadata": {},
   "source": [
    "### Create a menu driven Python program using user defined functions to implement a calculator to perform: (a) Basic arithmetic operations (b) log10(x), sin(x), cos(x)"
   ]
  },
  {
   "cell_type": "code",
   "execution_count": 129,
   "id": "fd64042a",
   "metadata": {},
   "outputs": [
    {
     "name": "stdout",
     "output_type": "stream",
     "text": [
      "Choose:\n",
      "1: Addition\n",
      "2: Subtraction\n",
      "3: Multiplication\n",
      "4: Division\n",
      "5: Log10(x)\n",
      "6: sin(x)\n",
      "7: cos(x)\n",
      "8: Exit\n",
      "Log10(x): 0.3010299956639812 \n",
      "\n",
      "Choose:\n",
      "1: Addition\n",
      "2: Subtraction\n",
      "3: Multiplication\n",
      "4: Division\n",
      "5: Log10(x)\n",
      "6: sin(x)\n",
      "7: cos(x)\n",
      "8: Exit\n",
      "Program ending\n"
     ]
    }
   ],
   "source": [
    "import math\n",
    "\n",
    "def add(a, b):\n",
    "    return a+b\n",
    "\n",
    "def subtract(a,b):\n",
    "    return a-b\n",
    "\n",
    "def multiply(a,b):\n",
    "    return a*b\n",
    "\n",
    "def divide(a,b):\n",
    "    return a/b\n",
    "\n",
    "def log(a):\n",
    "    return math.log10(a)\n",
    "\n",
    "def sin(a):\n",
    "    return math.sin(math.radians(a))\n",
    "\n",
    "def cos(a):\n",
    "    return math.cos(math.radians(a))\n",
    "\n",
    "while True:\n",
    "    print(\"Choose:\")\n",
    "    print(\"1: Addition\")\n",
    "    print(\"2: Subtraction\")\n",
    "    print(\"3: Multiplication\")\n",
    "    print(\"4: Division\")\n",
    "    print(\"5: Log10(x)\")\n",
    "    print(\"6: sin(x)\")\n",
    "    print(\"7: cos(x)\")\n",
    "    print(\"8: Exit\")\n",
    "    choice = input(\"Your Choice: \")\n",
    "\n",
    "    if choice == \"1\":\n",
    "        num1 = int(input(\"Num1: \"))\n",
    "        num2 = int(input(\"Num2: \"))\n",
    "        summ = add(num1,num2)\n",
    "        print(\"Addition:\",summ,\"\\n\")\n",
    "\n",
    "    elif choice == \"2\":\n",
    "        num1 = int(input(\"Num1: \"))\n",
    "        num2 = int(input(\"Num2: \"))\n",
    "        sub = subtract(num1,num2)\n",
    "        print(\"Subtraction:\",sub,\"\\n\")\n",
    "\n",
    "    elif choice == \"3\":\n",
    "        num1 = int(input(\"Num1: \"))\n",
    "        num2 = int(input(\"Num2: \"))\n",
    "        mul = multiply(num1,num2)\n",
    "        print(\"Multiplication:\",mul,\"\\n\")\n",
    "\n",
    "    elif choice == \"4\":\n",
    "        num1 = int(input(\"Num1: \"))\n",
    "        num2 = int(input(\"Num2: \"))\n",
    "        div = divide(num1,num2)\n",
    "        print(\"Division:\",div,\"\\n\")\n",
    "\n",
    "    elif choice == \"5\":\n",
    "        num1 = int(input(\"Num1: \"))\n",
    "        log10 = log(num1)\n",
    "        print(\"Log10(x):\",log10,\"\\n\")\n",
    "\n",
    "    elif choice == \"6\":\n",
    "        num1 = int(input(\"Num1: \"))\n",
    "        sinx = sin(num1)\n",
    "        print(\"sin(x):\",sinx,\"\\n\")\n",
    "\n",
    "    elif choice == \"7\":\n",
    "        num1 = int(input(\"Num1: \"))\n",
    "        cosx = cos(num1)\n",
    "        print(\"cos(x):\",cosx,\"\\n\")\n",
    "\n",
    "    elif choice == \"8\":\n",
    "        print(\"Program ending\")\n",
    "        break\n",
    "\n",
    "    else:\n",
    "        \"Invalid Choice\"\n"
   ]
  }
 ],
 "metadata": {
  "kernelspec": {
   "display_name": "Python 3",
   "language": "python",
   "name": "python3"
  },
  "language_info": {
   "codemirror_mode": {
    "name": "ipython",
    "version": 3
   },
   "file_extension": ".py",
   "mimetype": "text/x-python",
   "name": "python",
   "nbconvert_exporter": "python",
   "pygments_lexer": "ipython3",
   "version": "3.13.5"
  }
 },
 "nbformat": 4,
 "nbformat_minor": 5
}
